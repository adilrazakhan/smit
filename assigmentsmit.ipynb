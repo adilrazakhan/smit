{
  "nbformat": 4,
  "nbformat_minor": 0,
  "metadata": {
    "colab": {
      "provenance": [],
      "authorship_tag": "ABX9TyP5yAktp0kj3muWPVFYhUnA",
      "include_colab_link": true
    },
    "kernelspec": {
      "name": "python3",
      "display_name": "Python 3"
    },
    "language_info": {
      "name": "python"
    }
  },
  "cells": [
    {
      "cell_type": "markdown",
      "metadata": {
        "id": "view-in-github",
        "colab_type": "text"
      },
      "source": [
        "<a href=\"https://colab.research.google.com/github/adilrazakhan/smit/blob/main/assigmentsmit.ipynb\" target=\"_parent\"><img src=\"https://colab.research.google.com/assets/colab-badge.svg\" alt=\"Open In Colab\"/></a>"
      ]
    },
    {
      "cell_type": "code",
      "execution_count": 11,
      "metadata": {
        "colab": {
          "base_uri": "https://localhost:8080/"
        },
        "id": "W53yF5i8i_de",
        "outputId": "0980c2fc-b685-4117-bc69-7c1c7ba12728"
      },
      "outputs": [
        {
          "output_type": "stream",
          "name": "stdout",
          "text": [
            "Enrter your number0\n",
            "it's neutral number\n"
          ]
        }
      ],
      "source": [
        "user= int(input(\"Enrter your number\"))\n",
        "if user<0 :\n",
        "  print(\"it is negative\")\n",
        "elif user>0 : print(\"its positive \")\n",
        "else: print(\"it's neutral number\")"
      ]
    },
    {
      "cell_type": "code",
      "source": [],
      "metadata": {
        "id": "7Tn9Q8Tmk5-8"
      },
      "execution_count": 2,
      "outputs": []
    }
  ]
}