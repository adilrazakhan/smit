{
  "nbformat": 4,
  "nbformat_minor": 0,
  "metadata": {
    "colab": {
      "provenance": [],
      "authorship_tag": "ABX9TyNUwZYpN8E5OS3TfJ77qKq4",
      "include_colab_link": true
    },
    "kernelspec": {
      "name": "python3",
      "display_name": "Python 3"
    },
    "language_info": {
      "name": "python"
    }
  },
  "cells": [
    {
      "cell_type": "markdown",
      "metadata": {
        "id": "view-in-github",
        "colab_type": "text"
      },
      "source": [
        "<a href=\"https://colab.research.google.com/github/adilrazakhan/smit/blob/main/assigmentsmit.ipynb\" target=\"_parent\"><img src=\"https://colab.research.google.com/assets/colab-badge.svg\" alt=\"Open In Colab\"/></a>"
      ]
    },
    {
      "cell_type": "markdown",
      "source": [
        "#ASSIGNMENT 1"
      ],
      "metadata": {
        "id": "UIF0KN23nTcM"
      }
    },
    {
      "cell_type": "code",
      "execution_count": 11,
      "metadata": {
        "colab": {
          "base_uri": "https://localhost:8080/"
        },
        "id": "W53yF5i8i_de",
        "outputId": "0980c2fc-b685-4117-bc69-7c1c7ba12728"
      },
      "outputs": [
        {
          "output_type": "stream",
          "name": "stdout",
          "text": [
            "Enrter your number0\n",
            "it's neutral number\n"
          ]
        }
      ],
      "source": [
        "# user= int(input(\"Enrter your number\"))\n",
        "# if user<0 :\n",
        "#   print(\"it is negative\")\n",
        "# elif user>0 : print(\"its positive \")\n",
        "# else: print(\"it's neutral number\")"
      ]
    },
    {
      "cell_type": "markdown",
      "source": [
        "#ASSIGNMENT 2\n"
      ],
      "metadata": {
        "id": "SJpkIUwvnMg7"
      }
    },
    {
      "cell_type": "code",
      "source": [
        "#Ask student to roll number.\n",
        "stu=int(input(\"enter your roll number:\\n\"))\n",
        "sub = (\"Maths\", \"English\", \"Urdu\", \"Science\")\n",
        "\n",
        "#check if roll number is correct\n",
        "if stu== 371567:\n",
        "  om = ( 85 , 90, 92, 95)\n",
        "  tm = 100\n",
        "  gt=sum(om) #total marks\n",
        "  gp=(gt / 400)*100 #total percentage\n",
        "  print(f\"\"\"\n",
        "  name: Adil Raza\n",
        "  Roll num: 371567\n",
        "\n",
        "  result:\n",
        "  Subject\\tMarks\\tTotal\\tPercentage\n",
        "  {sub[0]}\\t{om[0]}\\t{tm}\\t{(om[0]/tm)*100:.2f}\n",
        "  {sub[1]}\\t{om[1]}\\t{tm}\\t{(om[1]/tm)*100:.2f}\n",
        "  {sub[2]}\\t{om[2]}\\t{tm}\\t{(om[2]/tm)*100:.2f}\n",
        "  {sub[3]}\\t{om[3]}\\t{tm}\\t{(om[3]/tm)*100:.2f}\n",
        "\n",
        "  Grand Total: {gt}\n",
        "  Percentage: {gp:.2f}\n",
        "  \"\"\")\n",
        "\n",
        "else:\n",
        "    print(\"incorrect roll number\")"
      ],
      "metadata": {
        "colab": {
          "base_uri": "https://localhost:8080/"
        },
        "id": "0j4ToXMRnL2r",
        "outputId": "11e06713-0a7c-4ef4-8ca5-c7d188a14e38"
      },
      "execution_count": 35,
      "outputs": [
        {
          "output_type": "stream",
          "name": "stdout",
          "text": [
            "enter your roll number:\n",
            "371567\n",
            "\n",
            "  name: Adil Raza\n",
            "  Roll num: 371567\n",
            "\n",
            "  result:\n",
            "  Subject\tMarks\tTotal\tPercentage\n",
            "  Maths\t85\t100\t85.00     \n",
            "  English\t90\t100\t90.00\n",
            "  Urdu\t92\t100\t92.00\n",
            "  Science\t95\t100\t95.00\n",
            "  \n",
            "  Grand Total: 362\n",
            "  Percentage: 90.50\n",
            "  \n"
          ]
        }
      ]
    },
    {
      "cell_type": "code",
      "source": [],
      "metadata": {
        "id": "7Tn9Q8Tmk5-8"
      },
      "execution_count": 2,
      "outputs": []
    }
  ]
}